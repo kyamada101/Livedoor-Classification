{
 "cells": [
  {
   "cell_type": "markdown",
   "metadata": {},
   "source": [
    "# データをDataFrame形式に成形"
   ]
  },
  {
   "cell_type": "markdown",
   "metadata": {},
   "source": [
    "DL元：https://www.rondhuit.com/download.html  \n",
    "ldcc-20140209.tar.gzというやつをダウンロード。落としてきたディレクトリで、"
   ]
  },
  {
   "cell_type": "raw",
   "metadata": {},
   "source": [
    "tar -zxvf ldcc-20140209.tar.gz"
   ]
  },
  {
   "cell_type": "markdown",
   "metadata": {},
   "source": [
    "と打てば解凍できる。同じディレクトリに\"text\"というフォルダが生成されて、項目別にニュースのデータ(.txt形式)が入っている。"
   ]
  },
  {
   "cell_type": "code",
   "execution_count": null,
   "metadata": {},
   "outputs": [],
   "source": [
    "import glob\n",
    "from tqdm import tqdm\n",
    "import pandas as pd\n",
    "import os\n",
    "\n",
    "#ファイルのリストを取得\n",
    "filepath = './nlp/livedoor-news/' #データが入ってるディレクトリ\n",
    "news_list = glob.glob(filepath+'**/*.txt')\n",
    "\n",
    "#dfの外枠を作っておく\n",
    "origin_df = pd.DataFrame(columns=['URL','news_date','news_title','main_doc','category'],index=range(len(news_list)))\n",
    "\n",
    "#1つずつ読み込んでdfに追加していく\n",
    "for i in tqdm(range(len(news_list))):\n",
    "    with open(news_list[i],'r') as f:\n",
    "        text = f.read()\n",
    "        df_list = text.split('\\n')[:3]\n",
    "        main_article = ''.join(text.split('\\n')[3:])\n",
    "        df_list.append(main_article)\n",
    "        category = os.path.dirname(news_list[i]).replace(filepath,'')\n",
    "        df_list.append(category)\n",
    "        origin_df.iloc[i,:] = df_list"
   ]
  },
  {
   "cell_type": "markdown",
   "metadata": {},
   "source": [
    "ここでできたorigin_dfがDataFrame形式のデータになっている。  \n",
    "この時点で保存するなら以下のような感じ"
   ]
  },
  {
   "cell_type": "code",
   "execution_count": null,
   "metadata": {},
   "outputs": [],
   "source": [
    "#dfをpickleで保存\n",
    "import pickle\n",
    "with open('./livedoor-news.pickle','wb') as f:\n",
    "    pickle.dump(origin_df,f)"
   ]
  },
  {
   "cell_type": "code",
   "execution_count": null,
   "metadata": {},
   "outputs": [],
   "source": [
    "#dfをtsv形式で保存\n",
    "origin_df.to_csv('livedoor-news.tsv',sep='\\t',index=False)"
   ]
  },
  {
   "cell_type": "code",
   "execution_count": null,
   "metadata": {},
   "outputs": [],
   "source": [
    "#pickleを読み出す\n",
    "import pickle\n",
    "with open('./livedoor-news.pickle','rb') as f:\n",
    "        df = pickle.load(f)"
   ]
  },
  {
   "cell_type": "markdown",
   "metadata": {},
   "source": [
    "## カテゴリをラベルに変換する"
   ]
  },
  {
   "cell_type": "code",
   "execution_count": null,
   "metadata": {},
   "outputs": [],
   "source": [
    "#フォルダ名のリスト（=カテゴリ名のリスト）を作成\n",
    "import glob\n",
    "category_list = glob.glob('./nlp/livedoor-news/*')\n",
    "filepath = './nlp/livedoor-news/'\n",
    "\n",
    "for i in range(len(category_list)):\n",
    "    new_path = category_list[i].replace(filepath,'')\n",
    "    category_list[i] = new_path\n",
    "    \n",
    "category_list = [path for path in category_list if '.txt' not in path]\n",
    "print(category_list)"
   ]
  },
  {
   "cell_type": "code",
   "execution_count": null,
   "metadata": {},
   "outputs": [],
   "source": [
    "#categoryを数字ラベルに変換\n",
    "df['label'] = 0 #新しくDataFrameに\"label\"の列を追加\n",
    "for i in range(len(df)):\n",
    "    index = category_list.index(df.iloc[i,4])\n",
    "    df.iloc[i,5] = index #\"label\"列にラベルを上書きしていく\n",
    "\n",
    "print(df.head())"
   ]
  },
  {
   "cell_type": "markdown",
   "metadata": {},
   "source": [
    "## train/val/testとして保存"
   ]
  },
  {
   "cell_type": "code",
   "execution_count": null,
   "metadata": {},
   "outputs": [],
   "source": [
    "#ランダムシャッフル\n",
    "df = df.sample(frac=1).reset_index(drop=True)"
   ]
  },
  {
   "cell_type": "markdown",
   "metadata": {},
   "source": [
    "今回必要なのは記事の中身(main_doc)とカテゴリのラベル(label) なので、そこだけ取り出して保存しておく"
   ]
  },
  {
   "cell_type": "code",
   "execution_count": null,
   "metadata": {},
   "outputs": [],
   "source": [
    "#訓練、検証、テストに分けてそれぞれtsvファイルで保存\n",
    "train_livedoor = df.iloc[0:5000,[3,5]]\n",
    "val_livedoor = df.iloc[5000:6000,[3,5]]\n",
    "test_livedoor = df.iloc[6000:7000,[3,5]]\n",
    "train_livedoor.to_csv('train_livedoor.tsv',sep='\\t',index=False)\n",
    "val_livedoor.to_csv('val_livedoor.tsv',sep='\\t',index=False)\n",
    "test_livedoor.to_csv('test_livedoor.tsv',sep='\\t',index=False)"
   ]
  }
 ],
 "metadata": {
  "kernelspec": {
   "display_name": "py37-yamako",
   "language": "python",
   "name": "py37-yamako"
  },
  "language_info": {
   "codemirror_mode": {
    "name": "ipython",
    "version": 3
   },
   "file_extension": ".py",
   "mimetype": "text/x-python",
   "name": "python",
   "nbconvert_exporter": "python",
   "pygments_lexer": "ipython3",
   "version": "3.7.5"
  }
 },
 "nbformat": 4,
 "nbformat_minor": 2
}
